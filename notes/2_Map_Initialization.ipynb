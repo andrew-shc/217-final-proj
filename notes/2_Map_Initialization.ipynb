{
 "cells": [
  {
   "cell_type": "markdown",
   "id": "99e3459c",
   "metadata": {},
   "source": [
    "# Automatic Map Initialization\n",
    "The main goal of this is to compute the relative pose between 2 frames to triangulate an initial set of map pts. "
   ]
  },
  {
   "cell_type": "markdown",
   "id": "d972fa8b",
   "metadata": {},
   "source": [
    "The first step is to find initial correspondances. This can be done with ORB and brute-force matching them. "
   ]
  },
  {
   "cell_type": "code",
   "execution_count": 2,
   "id": "8af44ed4",
   "metadata": {},
   "outputs": [],
   "source": [
    "import cv2 \n",
    "import numpy as np\n",
    "import matplotlib.pyplot as plt\n",
    "\n",
    "PATH_TO_IMG1 = \"./parallax_1.jpg\"\n",
    "PATH_TO_IMG2 = \"./parallax_2.jpg\""
   ]
  },
  {
   "cell_type": "code",
   "execution_count": null,
   "id": "e4ce3dcc",
   "metadata": {},
   "outputs": [],
   "source": [
    "img1 = cv2.imread(PATH_TO_IMG1, cv2.IMREAD_GRAYSCALE)\n",
    "img2 = cv2.imread(PATH_TO_IMG2, cv2.IMREAD_GRAYSCALE)"
   ]
  },
  {
   "cell_type": "markdown",
   "id": "d8532276",
   "metadata": {},
   "source": [
    "The next step is to compute a homography and a fundamental matrix on the matches. Technically this can be done in parallel but for demonstration purposes this will be skipped. "
   ]
  },
  {
   "cell_type": "code",
   "execution_count": null,
   "id": "08021529",
   "metadata": {},
   "outputs": [],
   "source": []
  },
  {
   "cell_type": "markdown",
   "id": "ddf003f7",
   "metadata": {},
   "source": [
    "The third step is to select a good model. Ideally one that the fundamental matrix has a good result on and the homography on a subset is ideal. "
   ]
  },
  {
   "cell_type": "code",
   "execution_count": null,
   "id": "512d6799",
   "metadata": {},
   "outputs": [],
   "source": []
  },
  {
   "cell_type": "markdown",
   "id": "c4087173",
   "metadata": {},
   "source": [
    "The fourth step is to perform motion and structure from "
   ]
  }
 ],
 "metadata": {
  "kernelspec": {
   "display_name": "vision",
   "language": "python",
   "name": "python3"
  },
  "language_info": {
   "codemirror_mode": {
    "name": "ipython",
    "version": 3
   },
   "file_extension": ".py",
   "mimetype": "text/x-python",
   "name": "python",
   "nbconvert_exporter": "python",
   "pygments_lexer": "ipython3",
   "version": "3.12.4"
  }
 },
 "nbformat": 4,
 "nbformat_minor": 5
}
