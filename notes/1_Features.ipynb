{
 "cells": [
  {
   "cell_type": "markdown",
   "id": "7c62cc9d",
   "metadata": {},
   "source": [
    "# Features\n",
    "The very first step in the ORB-SLAM system is to extract features from every frame. The chosen feature extraction method should prioritize speed over accuracy. As such, the chosen method is (literally in the name LOL) ORB, which stands for Oriented FAST (Features From Accelerated Segment Test) and Rotated BRIEF (Binary Robust Independent Elementary Features). \n",
    "\n",
    "It would be a cool project to implement it by hand, but a cool thing to note is that opencv has an implementation ready as the algorithm is open for public use :)"
   ]
  },
  {
   "cell_type": "code",
   "execution_count": null,
   "id": "e25fd8f2",
   "metadata": {},
   "outputs": [],
   "source": [
    "PATH_TO_IMG = \"./sample_scene.jpg\""
   ]
  },
  {
   "cell_type": "code",
   "execution_count": null,
   "id": "0a0ad737",
   "metadata": {},
   "outputs": [],
   "source": [
    "import numpy as np\n",
    "import cv2\n",
    "import matplotlib.pyplot as plt\n",
    "\n",
    "img = cv2.imread(PATH_TO_IMG, cv2.IMREAD_GRAYSCALE)\n",
    "\n",
    "# Init ORB detector\n",
    "orb = cv2.ORB.create()\n",
    "\n",
    "# find keypts\n",
    "kp = orb.detect(img, None)\n",
    "\n",
    "# compute descriptors\n",
    "kp, des = orb.compute(img, kp)\n",
    "\n",
    "# draw only keypts locations (no size + orientation)\n",
    "img2 = cv2.drawKeypoints(img, kp, None, color=(0, 255, 0), flags=None) # type: ignore\n",
    "plt.imshow(img2)\n",
    "plt.show()\n"
   ]
  },
  {
   "cell_type": "markdown",
   "id": "1f1b4be8",
   "metadata": {},
   "source": [
    "References:\n",
    "* https://docs.opencv.org/4.x/d1/d89/tutorial_py_orb.html (slightly outdated)\n",
    "* https://docs.opencv.org/3.4/db/d95/classcv_1_1ORB.html"
   ]
  },
  {
   "cell_type": "markdown",
   "id": "25a139b8",
   "metadata": {},
   "source": []
  }
 ],
 "metadata": {
  "kernelspec": {
   "display_name": "vision",
   "language": "python",
   "name": "python3"
  },
  "language_info": {
   "name": "python",
   "version": "3.12.5"
  }
 },
 "nbformat": 4,
 "nbformat_minor": 5
}
